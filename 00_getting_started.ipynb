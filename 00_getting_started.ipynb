{
 "cells": [
  {
   "cell_type": "markdown",
   "metadata": {},
   "source": [
    "# Getting Started"
   ]
  },
  {
   "cell_type": "markdown",
   "metadata": {},
   "source": [
    "This notebook will help install all the required dependencies as well as prepare the dataset for use with fast.ai"
   ]
  },
  {
   "cell_type": "code",
   "execution_count": 1,
   "metadata": {},
   "outputs": [
    {
     "data": {
      "text/plain": [
       "'3.7.13 (default, Mar 29 2022, 02:18:16) \\n[GCC 7.5.0]'"
      ]
     },
     "execution_count": 1,
     "metadata": {},
     "output_type": "execute_result"
    }
   ],
   "source": [
    "# Check python version\n",
    "import sys\n",
    "sys.version"
   ]
  },
  {
   "cell_type": "markdown",
   "metadata": {},
   "source": [
    "This is needed for systems that don't already have it installed."
   ]
  },
  {
   "cell_type": "code",
   "execution_count": 2,
   "metadata": {},
   "outputs": [
    {
     "name": "stdout",
     "output_type": "stream",
     "text": [
      "Reading package lists... Done\n",
      "Building dependency tree       \n",
      "Reading state information... Done\n",
      "The following additional packages will be installed:\n",
      "  libflac8 libogg0 libvorbis0a libvorbisenc2\n",
      "The following NEW packages will be installed:\n",
      "  libflac8 libogg0 libsndfile1 libvorbis0a libvorbisenc2\n",
      "0 upgraded, 5 newly installed, 0 to remove and 17 not upgraded.\n",
      "Need to get 557 kB of archives.\n",
      "After this operation, 2051 kB of additional disk space will be used.\n",
      "Get:1 http://archive.ubuntu.com/ubuntu bionic/main amd64 libogg0 amd64 1.3.2-1 [17.2 kB]\n",
      "Get:2 http://archive.ubuntu.com/ubuntu bionic/main amd64 libflac8 amd64 1.3.2-1 [213 kB]\n",
      "Get:3 http://archive.ubuntu.com/ubuntu bionic/main amd64 libvorbis0a amd64 1.3.5-4.2 [86.4 kB]\n",
      "Get:4 http://archive.ubuntu.com/ubuntu bionic/main amd64 libvorbisenc2 amd64 1.3.5-4.2 [70.7 kB]\n",
      "Get:5 http://archive.ubuntu.com/ubuntu bionic-updates/main amd64 libsndfile1 amd64 1.0.28-4ubuntu0.18.04.2 [170 kB]\n",
      "Fetched 557 kB in 1s (571 kB/s)     \n",
      "debconf: delaying package configuration, since apt-utils is not installed\n",
      "Selecting previously unselected package libogg0:amd64.\n",
      "(Reading database ... 12682 files and directories currently installed.)\n",
      "Preparing to unpack .../libogg0_1.3.2-1_amd64.deb ...\n",
      "Unpacking libogg0:amd64 (1.3.2-1) ...\n",
      "Selecting previously unselected package libflac8:amd64.\n",
      "Preparing to unpack .../libflac8_1.3.2-1_amd64.deb ...\n",
      "Unpacking libflac8:amd64 (1.3.2-1) ...\n",
      "Selecting previously unselected package libvorbis0a:amd64.\n",
      "Preparing to unpack .../libvorbis0a_1.3.5-4.2_amd64.deb ...\n",
      "Unpacking libvorbis0a:amd64 (1.3.5-4.2) ...\n",
      "Selecting previously unselected package libvorbisenc2:amd64.\n",
      "Preparing to unpack .../libvorbisenc2_1.3.5-4.2_amd64.deb ...\n",
      "Unpacking libvorbisenc2:amd64 (1.3.5-4.2) ...\n",
      "Selecting previously unselected package libsndfile1:amd64.\n",
      "Preparing to unpack .../libsndfile1_1.0.28-4ubuntu0.18.04.2_amd64.deb ...\n",
      "Unpacking libsndfile1:amd64 (1.0.28-4ubuntu0.18.04.2) ...\n",
      "Setting up libogg0:amd64 (1.3.2-1) ...\n",
      "Setting up libvorbis0a:amd64 (1.3.5-4.2) ...\n",
      "Setting up libflac8:amd64 (1.3.2-1) ...\n",
      "Setting up libvorbisenc2:amd64 (1.3.5-4.2) ...\n",
      "Setting up libsndfile1:amd64 (1.0.28-4ubuntu0.18.04.2) ...\n",
      "Processing triggers for libc-bin (2.27-3ubuntu1.6) ...\n"
     ]
    }
   ],
   "source": [
    "!apt-get install -y libsndfile1"
   ]
  },
  {
   "cell_type": "markdown",
   "metadata": {},
   "source": [
    "Setting up system dependencies that work well with each other is incredibly difficult. Different libraries specify different version constraints and that makes finding the right versions difficult to resolve. In the cloud, typically libraries like `torch` will already be installed on the system with CUDA enabled. When a dependency specifies a different version of `torch` and your system downloads a new one, it may not be CUDA enabled. The same occurs with other libraries.\n",
    "\n",
    "`conda` ships with the Anaconda distribution of Python and should be used instead of `pip` as certain channels curate which libraries work best together. `fastchan` is a channel created by the fast.ai team that curates the most common versions data science packages that work well together and also have GPU acceleration. When a package isn't on `fastchan` we use `conda-forge` which is a community maintained channel that is a good alternative. "
   ]
  },
  {
   "cell_type": "code",
   "execution_count": 4,
   "metadata": {},
   "outputs": [
    {
     "name": "stdout",
     "output_type": "stream",
     "text": [
      "Collecting package metadata (current_repodata.json): done\n",
      "Solving environment: done\n",
      "\n",
      "## Package Plan ##\n",
      "\n",
      "  environment location: /opt/conda\n",
      "\n",
      "  added / updated specs:\n",
      "    - fastai\n",
      "    - torchaudio\n",
      "\n",
      "\n",
      "The following packages will be downloaded:\n",
      "\n",
      "    package                    |            build\n",
      "    ---------------------------|-----------------\n",
      "    bottleneck-1.3.4           |   py37hda87dfa_1         125 KB  fastchan\n",
      "    brotli-1.0.9               |       h166bdaf_7          18 KB  fastchan\n",
      "    brotli-bin-1.0.9           |       h166bdaf_7          19 KB  fastchan\n",
      "    catalogue-2.0.8            |   py37h89c1867_0          32 KB  fastchan\n",
      "    certifi-2022.9.24          |     pyhd8ed1ab_0         155 KB  fastchan\n",
      "    click-8.1.3                |   py37h89c1867_0         145 KB  fastchan\n",
      "    conda-22.9.0               |   py37h89c1867_0         959 KB  fastchan\n",
      "    cymem-2.0.6                |   py37hd23a5d3_3          42 KB  fastchan\n",
      "    cython-blis-0.7.7          |   py37hda87dfa_1         4.0 MB  fastchan\n",
      "    dataclasses-0.8            |     pyhc8e2a94_3          10 KB  fastchan\n",
      "    dbus-1.13.18               |       hb2f20db_0         504 KB\n",
      "    expat-2.4.8                |       h27087fc_0         187 KB  fastchan\n",
      "    fastai-2.7.9               |             py_0         170 KB  fastchan\n",
      "    fastcore-1.5.27            |             py_0          59 KB  fastchan\n",
      "    fastdownload-0.0.7         |             py_0          17 KB  fastchan\n",
      "    fastprogress-1.0.3         |             py_0          17 KB  fastchan\n",
      "    fontconfig-2.14.0          |       h8e229c2_0         305 KB  fastchan\n",
      "    fonttools-4.33.3           |   py37h540881e_0         1.6 MB  fastchan\n",
      "    glib-2.68.4                |       h9c3ff4c_0         447 KB  fastchan\n",
      "    glib-tools-2.68.4          |       h9c3ff4c_0          86 KB  fastchan\n",
      "    gst-plugins-base-1.14.0    |       hbbd80ab_1         4.8 MB\n",
      "    gstreamer-1.14.0           |       h28cd5cc_2         3.2 MB\n",
      "    importlib-metadata-4.11.4  |   py37h89c1867_0          33 KB  fastchan\n",
      "    langcodes-3.3.0            |     pyhd8ed1ab_0         156 KB  fastchan\n",
      "    libbrotlicommon-1.0.9      |       h166bdaf_7          65 KB  fastchan\n",
      "    libbrotlidec-1.0.9         |       h166bdaf_7          33 KB  fastchan\n",
      "    libbrotlienc-1.0.9         |       h166bdaf_7         287 KB  fastchan\n",
      "    libglib-2.68.4             |       h3e27bee_0         3.0 MB  fastchan\n",
      "    libuuid-2.32.1             |    h7f98852_1000          28 KB  fastchan\n",
      "    libxcb-1.13                |    h7f98852_1004         391 KB  fastchan\n",
      "    matplotlib-3.5.2           |   py37h89c1867_0           6 KB  fastchan\n",
      "    matplotlib-base-3.5.2      |   py37hf590b9c_0         5.6 MB\n",
      "    munkres-1.1.4              |     pyh9f0ad1d_0          12 KB  fastchan\n",
      "    murmurhash-1.0.7           |   py37hd23a5d3_0          26 KB  fastchan\n",
      "    numexpr-2.7.3              |   py37he8f5f7f_1         200 KB  fastchan\n",
      "    openssl-1.1.1o             |       h166bdaf_0         2.1 MB  fastchan\n",
      "    pandas-1.3.5               |   py37h8c16a72_0         9.3 MB\n",
      "    pathy-0.6.2                |     pyhd8ed1ab_0          38 KB  fastchan\n",
      "    pcre-8.45                  |       h9c3ff4c_0         253 KB  fastchan\n",
      "    preshed-3.0.6              |   py37hd23a5d3_2         117 KB  fastchan\n",
      "    pthread-stubs-0.4          |    h36c2ea0_1001           5 KB  fastchan\n",
      "    pydantic-1.8.2             |   py37h5e8e339_2         2.2 MB  fastchan\n",
      "    pyqt-5.9.2                 |   py37h05f1152_2         4.5 MB\n",
      "    qt-5.9.7                   |       h5867ecd_1        68.5 MB\n",
      "    shellingham-1.5.0          |     pyhd8ed1ab_0          12 KB  fastchan\n",
      "    sip-4.19.8                 |   py37hf484d3e_0         274 KB\n",
      "    smart_open-5.2.1           |     pyhd8ed1ab_0          43 KB  fastchan\n",
      "    spacy-3.3.0                |   py37h48bf904_0         6.1 MB  fastchan\n",
      "    spacy-legacy-3.0.10        |     pyhd8ed1ab_0          20 KB  fastchan\n",
      "    spacy-loggers-1.0.3        |     pyhd8ed1ab_0          13 KB  fastchan\n",
      "    srsly-2.4.3                |   py37hd23a5d3_1         543 KB  fastchan\n",
      "    thinc-8.0.15               |   py37h48bf904_0         756 KB  fastchan\n",
      "    torchaudio-0.12.0          |       py37_cu113         6.2 MB  fastchan\n",
      "    typer-0.4.2                |     pyhd8ed1ab_0          45 KB  fastchan\n",
      "    typing-extensions-3.10.0.2 |       hd8ed1ab_0           8 KB  fastchan\n",
      "    typing_extensions-3.10.0.2 |     pyha770c72_0          28 KB  fastchan\n",
      "    unicodedata2-14.0.0        |   py37h540881e_1         496 KB  fastchan\n",
      "    wasabi-0.10.0              |     pyhd8ed1ab_0          26 KB  fastchan\n",
      "    xorg-libxau-1.0.9          |       h7f98852_0          13 KB  fastchan\n",
      "    xorg-libxdmcp-1.1.3        |       h7f98852_0          19 KB  fastchan\n",
      "    zipp-3.9.0                 |     pyhd8ed1ab_0          13 KB  fastchan\n",
      "    ------------------------------------------------------------\n",
      "                                           Total:       128.2 MB\n",
      "\n",
      "The following NEW packages will be INSTALLED:\n",
      "\n",
      "  bottleneck         fastchan/linux-64::bottleneck-1.3.4-py37hda87dfa_1 None\n",
      "  brotli             fastchan/linux-64::brotli-1.0.9-h166bdaf_7 None\n",
      "  brotli-bin         fastchan/linux-64::brotli-bin-1.0.9-h166bdaf_7 None\n",
      "  catalogue          fastchan/linux-64::catalogue-2.0.8-py37h89c1867_0 None\n",
      "  click              fastchan/linux-64::click-8.1.3-py37h89c1867_0 None\n",
      "  cymem              fastchan/linux-64::cymem-2.0.6-py37hd23a5d3_3 None\n",
      "  cython-blis        fastchan/linux-64::cython-blis-0.7.7-py37hda87dfa_1 None\n",
      "  dataclasses        fastchan/noarch::dataclasses-0.8-pyhc8e2a94_3 None\n",
      "  dbus               pkgs/main/linux-64::dbus-1.13.18-hb2f20db_0 None\n",
      "  expat              fastchan/linux-64::expat-2.4.8-h27087fc_0 None\n",
      "  fastai             fastchan/noarch::fastai-2.7.9-py_0 None\n",
      "  fastcore           fastchan/noarch::fastcore-1.5.27-py_0 None\n",
      "  fastdownload       fastchan/noarch::fastdownload-0.0.7-py_0 None\n",
      "  fastprogress       fastchan/noarch::fastprogress-1.0.3-py_0 None\n",
      "  fontconfig         fastchan/linux-64::fontconfig-2.14.0-h8e229c2_0 None\n",
      "  fonttools          fastchan/linux-64::fonttools-4.33.3-py37h540881e_0 None\n",
      "  glib               fastchan/linux-64::glib-2.68.4-h9c3ff4c_0 None\n",
      "  glib-tools         fastchan/linux-64::glib-tools-2.68.4-h9c3ff4c_0 None\n",
      "  gst-plugins-base   pkgs/main/linux-64::gst-plugins-base-1.14.0-hbbd80ab_1 None\n",
      "  gstreamer          pkgs/main/linux-64::gstreamer-1.14.0-h28cd5cc_2 None\n",
      "  importlib-metadata fastchan/linux-64::importlib-metadata-4.11.4-py37h89c1867_0 None\n",
      "  langcodes          fastchan/noarch::langcodes-3.3.0-pyhd8ed1ab_0 None\n",
      "  libbrotlicommon    fastchan/linux-64::libbrotlicommon-1.0.9-h166bdaf_7 None\n",
      "  libbrotlidec       fastchan/linux-64::libbrotlidec-1.0.9-h166bdaf_7 None\n",
      "  libbrotlienc       fastchan/linux-64::libbrotlienc-1.0.9-h166bdaf_7 None\n",
      "  libglib            fastchan/linux-64::libglib-2.68.4-h3e27bee_0 None\n",
      "  libuuid            fastchan/linux-64::libuuid-2.32.1-h7f98852_1000 None\n",
      "  libxcb             fastchan/linux-64::libxcb-1.13-h7f98852_1004 None\n",
      "  matplotlib         fastchan/linux-64::matplotlib-3.5.2-py37h89c1867_0 None\n",
      "  munkres            fastchan/noarch::munkres-1.1.4-pyh9f0ad1d_0 None\n",
      "  murmurhash         fastchan/linux-64::murmurhash-1.0.7-py37hd23a5d3_0 None\n",
      "  numexpr            fastchan/linux-64::numexpr-2.7.3-py37he8f5f7f_1 None\n",
      "  pandas             pkgs/main/linux-64::pandas-1.3.5-py37h8c16a72_0 None\n",
      "  pathy              fastchan/noarch::pathy-0.6.2-pyhd8ed1ab_0 None\n",
      "  pcre               fastchan/linux-64::pcre-8.45-h9c3ff4c_0 None\n",
      "  preshed            fastchan/linux-64::preshed-3.0.6-py37hd23a5d3_2 None\n",
      "  pthread-stubs      fastchan/linux-64::pthread-stubs-0.4-h36c2ea0_1001 None\n",
      "  pydantic           fastchan/linux-64::pydantic-1.8.2-py37h5e8e339_2 None\n",
      "  pyqt               pkgs/main/linux-64::pyqt-5.9.2-py37h05f1152_2 None\n",
      "  qt                 pkgs/main/linux-64::qt-5.9.7-h5867ecd_1 None\n",
      "  shellingham        fastchan/noarch::shellingham-1.5.0-pyhd8ed1ab_0 None\n",
      "  sip                pkgs/main/linux-64::sip-4.19.8-py37hf484d3e_0 None\n",
      "  smart_open         fastchan/noarch::smart_open-5.2.1-pyhd8ed1ab_0 None\n",
      "  spacy              fastchan/linux-64::spacy-3.3.0-py37h48bf904_0 None\n",
      "  spacy-legacy       fastchan/noarch::spacy-legacy-3.0.10-pyhd8ed1ab_0 None\n",
      "  spacy-loggers      fastchan/noarch::spacy-loggers-1.0.3-pyhd8ed1ab_0 None\n",
      "  srsly              fastchan/linux-64::srsly-2.4.3-py37hd23a5d3_1 None\n",
      "  thinc              fastchan/linux-64::thinc-8.0.15-py37h48bf904_0 None\n",
      "  torchaudio         fastchan/linux-64::torchaudio-0.12.0-py37_cu113 None\n",
      "  typer              fastchan/noarch::typer-0.4.2-pyhd8ed1ab_0 None\n",
      "  typing-extensions  fastchan/noarch::typing-extensions-3.10.0.2-hd8ed1ab_0 None\n",
      "  unicodedata2       fastchan/linux-64::unicodedata2-14.0.0-py37h540881e_1 None\n",
      "  wasabi             fastchan/noarch::wasabi-0.10.0-pyhd8ed1ab_0 None\n",
      "  xorg-libxau        fastchan/linux-64::xorg-libxau-1.0.9-h7f98852_0 None\n",
      "  xorg-libxdmcp      fastchan/linux-64::xorg-libxdmcp-1.1.3-h7f98852_0 None\n",
      "  zipp               fastchan/noarch::zipp-3.9.0-pyhd8ed1ab_0 None\n",
      "\n",
      "The following packages will be UPDATED:\n",
      "\n",
      "  matplotlib-base    conda-forge::matplotlib-base-3.4.3-py~ --> pkgs/main::matplotlib-base-3.5.2-py37hf590b9c_0 None\n",
      "\n",
      "The following packages will be SUPERSEDED by a higher-priority channel:\n",
      "\n",
      "  certifi                                       conda-forge --> fastchan None\n",
      "  conda              conda-forge::conda-22.9.0-py37h89c186~ --> fastchan::conda-22.9.0-py37h89c1867_0 None\n",
      "  openssl              pkgs/main::openssl-1.1.1q-h7f8727e_0 --> fastchan::openssl-1.1.1o-h166bdaf_0 None\n",
      "  typing_extensions  pkgs/main::typing_extensions-4.1.1-py~ --> fastchan::typing_extensions-3.10.0.2-pyha770c72_0 None\n",
      "\n",
      "\n",
      "\n",
      "Downloading and Extracting Packages\n"
     ]
    },
    {
     "name": "stdout",
     "output_type": "stream",
     "text": [
      "expat-2.4.8          | 187 KB    | ##################################### | 100% \n",
      "libbrotlidec-1.0.9   | 33 KB     | ##################################### | 100% \n",
      "gst-plugins-base-1.1 | 4.8 MB    | ##################################### | 100% \n",
      "murmurhash-1.0.7     | 26 KB     | ##################################### | 100% \n",
      "glib-2.68.4          | 447 KB    | ##################################### | 100% \n",
      "gstreamer-1.14.0     | 3.2 MB    | ##################################### | 100% \n",
      "unicodedata2-14.0.0  | 496 KB    | ##################################### | 100% \n",
      "libxcb-1.13          | 391 KB    | ##################################### | 100% \n",
      "pydantic-1.8.2       | 2.2 MB    | ##################################### | 100% \n",
      "pathy-0.6.2          | 38 KB     | ##################################### | 100% \n",
      "sip-4.19.8           | 274 KB    | ##################################### | 100% \n",
      "cython-blis-0.7.7    | 4.0 MB    | ##################################### | 100% \n",
      "libglib-2.68.4       | 3.0 MB    | ##################################### | 100% \n",
      "typing_extensions-3. | 28 KB     | ##################################### | 100% \n",
      "glib-tools-2.68.4    | 86 KB     | ##################################### | 100% \n",
      "libuuid-2.32.1       | 28 KB     | ##################################### | 100% \n",
      "wasabi-0.10.0        | 26 KB     | ##################################### | 100% \n",
      "fontconfig-2.14.0    | 305 KB    | ##################################### | 100% \n",
      "munkres-1.1.4        | 12 KB     | ##################################### | 100% \n",
      "preshed-3.0.6        | 117 KB    | ##################################### | 100% \n",
      "zipp-3.9.0           | 13 KB     | ##################################### | 100% \n",
      "thinc-8.0.15         | 756 KB    | ##################################### | 100% \n",
      "numexpr-2.7.3        | 200 KB    | ##################################### | 100% \n",
      "srsly-2.4.3          | 543 KB    | ##################################### | 100% \n",
      "xorg-libxdmcp-1.1.3  | 19 KB     | ##################################### | 100% \n",
      "matplotlib-3.5.2     | 6 KB      | ##################################### | 100% \n",
      "brotli-bin-1.0.9     | 19 KB     | ##################################### | 100% \n",
      "openssl-1.1.1o       | 2.1 MB    | ##################################### | 100% \n",
      "click-8.1.3          | 145 KB    | ##################################### | 100% \n",
      "matplotlib-base-3.5. | 5.6 MB    | ##################################### | 100% \n",
      "langcodes-3.3.0      | 156 KB    | ##################################### | 100% \n",
      "importlib-metadata-4 | 33 KB     | ##################################### | 100% \n",
      "torchaudio-0.12.0    | 6.2 MB    | ##################################### | 100% \n",
      "catalogue-2.0.8      | 32 KB     | ##################################### | 100% \n",
      "fastcore-1.5.27      | 59 KB     | ##################################### | 100% \n",
      "pcre-8.45            | 253 KB    | ##################################### | 100% \n",
      "certifi-2022.9.24    | 155 KB    | ##################################### | 100% \n",
      "libbrotlienc-1.0.9   | 287 KB    | ##################################### | 100% \n",
      "pandas-1.3.5         | 9.3 MB    | ##################################### | 100% \n",
      "pthread-stubs-0.4    | 5 KB      | ##################################### | 100% \n",
      "typer-0.4.2          | 45 KB     | ##################################### | 100% \n",
      "dbus-1.13.18         | 504 KB    | ##################################### | 100% \n",
      "typing-extensions-3. | 8 KB      | ##################################### | 100% \n",
      "bottleneck-1.3.4     | 125 KB    | ##################################### | 100% \n",
      "libbrotlicommon-1.0. | 65 KB     | ##################################### | 100% \n",
      "spacy-loggers-1.0.3  | 13 KB     | ##################################### | 100% \n",
      "pyqt-5.9.2           | 4.5 MB    | ##################################### | 100% \n",
      "xorg-libxau-1.0.9    | 13 KB     | ##################################### | 100% \n",
      "smart_open-5.2.1     | 43 KB     | ##################################### | 100% \n",
      "fastai-2.7.9         | 170 KB    | ##################################### | 100% \n",
      "spacy-legacy-3.0.10  | 20 KB     | ##################################### | 100% \n",
      "spacy-3.3.0          | 6.1 MB    | ##################################### | 100% \n",
      "fastprogress-1.0.3   | 17 KB     | ##################################### | 100% \n",
      "fonttools-4.33.3     | 1.6 MB    | ##################################### | 100% \n",
      "conda-22.9.0         | 959 KB    | ##################################### | 100% \n",
      "qt-5.9.7             | 68.5 MB   | ##################################### | 100% \n",
      "dataclasses-0.8      | 10 KB     | ##################################### | 100% \n",
      "fastdownload-0.0.7   | 17 KB     | ##################################### | 100% \n",
      "brotli-1.0.9         | 18 KB     | ##################################### | 100% \n",
      "shellingham-1.5.0    | 12 KB     | ##################################### | 100% \n",
      "cymem-2.0.6          | 42 KB     | ##################################### | 100% \n",
      "Preparing transaction: done\n",
      "Verifying transaction: done\n",
      "Executing transaction: done\n",
      "Retrieving notices: ...working... done\n",
      "Collecting package metadata (current_repodata.json): done\n",
      "Solving environment: done\n",
      "\n",
      "## Package Plan ##\n",
      "\n",
      "  environment location: /opt/conda\n",
      "\n",
      "  added / updated specs:\n",
      "    - kaggle\n",
      "    - librosa\n",
      "\n",
      "\n",
      "The following packages will be downloaded:\n",
      "\n",
      "    package                    |            build\n",
      "    ---------------------------|-----------------\n",
      "    certifi-2022.9.24          |     pyhd8ed1ab_0         155 KB  conda-forge\n",
      "    ------------------------------------------------------------\n",
      "                                           Total:         155 KB\n",
      "\n",
      "The following packages will be UPDATED:\n",
      "\n",
      "  conda               fastchan::conda-22.9.0-py37h89c1867_0 --> conda-forge::conda-22.9.0-py37h89c1867_1 None\n",
      "  openssl               fastchan::openssl-1.1.1o-h166bdaf_0 --> pkgs/main::openssl-1.1.1q-h7f8727e_0 None\n",
      "\n",
      "The following packages will be SUPERSEDED by a higher-priority channel:\n",
      "\n",
      "  certifi                                          fastchan --> conda-forge None\n",
      "\n",
      "\n",
      "\n",
      "Downloading and Extracting Packages\n",
      "certifi-2022.9.24    | 155 KB    | ##################################### | 100% \n",
      "Preparing transaction: done\n",
      "Verifying transaction: done\n",
      "Executing transaction: done\n",
      "Retrieving notices: ...working... done\n"
     ]
    }
   ],
   "source": [
    "# Install fastai\n",
    "!conda install -c fastchan fastai torchaudio --yes\n",
    "!conda install -c conda-forge kaggle librosa --yes"
   ]
  },
  {
   "cell_type": "markdown",
   "metadata": {},
   "source": [
    "# Download Dataset"
   ]
  },
  {
   "cell_type": "markdown",
   "metadata": {},
   "source": [
    "In order to use the Kaggle’s public API, you must first authenticate using an API token. From the site header, click on your user profile picture, then on “My Account” from the dropdown menu. This will take you to your account settings at https://www.kaggle.com/account. Scroll down to the section of the page labelled API:\n",
    "\n",
    "To create a new token, click on the “Create New API Token” button. This will download a fresh authentication token onto your machine.\n",
    "\n",
    "### Accept the rules\n",
    "\n",
    "https://www.kaggle.com/competitions/whale-detection-challenge/rules\n",
    "\n",
    "\n",
    "### Upload your `kaggle.json` to the same folder as this notebook then run the cell below"
   ]
  },
  {
   "cell_type": "code",
   "execution_count": 5,
   "metadata": {},
   "outputs": [],
   "source": [
    "!mkdir -p ~/.kaggle; mv kaggle.json ~/.kaggle/kaggle.json"
   ]
  },
  {
   "cell_type": "markdown",
   "metadata": {},
   "source": [
    "### Download Dataset from Kaggle"
   ]
  },
  {
   "cell_type": "code",
   "execution_count": 6,
   "metadata": {},
   "outputs": [
    {
     "name": "stdout",
     "output_type": "stream",
     "text": [
      "Warning: Your Kaggle API key is readable by other users on this system! To fix this, you can run 'chmod 600 /root/.kaggle/kaggle.json'\n",
      "Downloading whale-detection-challenge.zip to /workspace/whale_detection_fast-ai\n",
      "100%|███████████████████████████████████████▉| 508M/509M [00:15<00:00, 39.8MB/s]\n",
      "100%|████████████████████████████████████████| 509M/509M [00:15<00:00, 34.1MB/s]\n"
     ]
    }
   ],
   "source": [
    "!kaggle competitions download -c whale-detection-challenge"
   ]
  },
  {
   "cell_type": "markdown",
   "metadata": {},
   "source": [
    "### Prepare Dataset for Use"
   ]
  },
  {
   "cell_type": "code",
   "execution_count": 7,
   "metadata": {},
   "outputs": [
    {
     "name": "stdout",
     "output_type": "stream",
     "text": [
      "Reading package lists... Done\n",
      "Building dependency tree       \n",
      "Reading state information... Done\n",
      "Suggested packages:\n",
      "  zip\n",
      "The following NEW packages will be installed:\n",
      "  unzip\n",
      "0 upgraded, 1 newly installed, 0 to remove and 17 not upgraded.\n",
      "Need to get 168 kB of archives.\n",
      "After this operation, 567 kB of additional disk space will be used.\n",
      "Get:1 http://archive.ubuntu.com/ubuntu bionic-updates/main amd64 unzip amd64 6.0-21ubuntu1.1 [168 kB]\n",
      "Fetched 168 kB in 0s (575 kB/s)\n",
      "debconf: delaying package configuration, since apt-utils is not installed\n",
      "Selecting previously unselected package unzip.\n",
      "(Reading database ... 12708 files and directories currently installed.)\n",
      "Preparing to unpack .../unzip_6.0-21ubuntu1.1_amd64.deb ...\n",
      "Unpacking unzip (6.0-21ubuntu1.1) ...\n",
      "Setting up unzip (6.0-21ubuntu1.1) ...\n",
      "Processing triggers for mime-support (3.60ubuntu1) ...\n"
     ]
    }
   ],
   "source": [
    "!apt-get install unzip"
   ]
  },
  {
   "cell_type": "markdown",
   "metadata": {},
   "source": [
    "Lets clean up our workspace so we can start over if necessary but also setup the directories we will need."
   ]
  },
  {
   "cell_type": "code",
   "execution_count": 8,
   "metadata": {},
   "outputs": [],
   "source": [
    "!rm -rf full_data; rm -rf sample_data; rm -rf tmp_data; rm -rf full_image_data; #remove any existing extracted data\n",
    "!unzip -q whale-detection-challenge.zip -d data/ #unzip main file\n",
    "!unzip -q data/small_data_sample_revised.zip -d sample_data/ #unzip sample data\n",
    "!unzip -q data/whale_data.zip -d tmp_data/ #unzip full data\n",
    "!rm -rf data/; rm -rf tmp_data/data/test; #remove unneeded files. official test data isn't used because we don't have labels\n",
    "!mkdir full_data; mv tmp_data/data/train full_data/audio; #move stuff around\n",
    "!mv tmp_data/data/train.csv full_data/labels.csv #rename labels\n",
    "!rm -rf tmp_data #remove tmp directory\n",
    "!mkdir -p full_data/whale; mkdir -p full_data/not_whale; #create necessary folders\n",
    "!mkdir -p full_image_data/whale; mkdir -p full_image_data/not_whale; #create necessary folders"
   ]
  },
  {
   "cell_type": "code",
   "execution_count": 10,
   "metadata": {},
   "outputs": [],
   "source": [
    "# This file contains all the main external libs we'll use\n",
    "import pandas as pd\n",
    "import os;\n",
    "import shutil;\n",
    "\n",
    "DATA_ROOT_DIR=os.path.normpath(os.path.join(os.getcwd(), 'full_data'))\n",
    "DATA_META_FILE=os.path.join(DATA_ROOT_DIR, 'labels.csv')\n",
    "DATA_AUDIO_DIR=os.path.join(DATA_ROOT_DIR, 'audio')\n",
    "DATA_WHALE_AUDIO_DIR=os.path.join(DATA_ROOT_DIR, 'whale')\n",
    "DATA_NOT_WHALE_AUDIO_DIR=os.path.join(DATA_ROOT_DIR, 'not_whale')\n",
    "\n",
    "df = pd.read_csv(DATA_META_FILE)\n",
    "df.head()\n",
    "\n",
    "for index, row in df.iterrows():\n",
    "    clip_name = row['clip_name']\n",
    "    label = row['label']\n",
    "    \n",
    "    # path to file described in labels.csv\n",
    "    source_path = os.path.join(DATA_AUDIO_DIR, clip_name)\n",
    "\n",
    "    # this is the directory we will move it to\n",
    "    aiff_dst_path = None\n",
    "    \n",
    "    # path will be dependent on whether it is a whale sound or not\n",
    "    if(label==0): #not whale\n",
    "        aiff_dst_path = os.path.join(DATA_NOT_WHALE_AUDIO_DIR, clip_name)\n",
    "    else: #whale\n",
    "        aiff_dst_path = os.path.join(DATA_WHALE_AUDIO_DIR, clip_name)\n",
    "\n",
    "    # perform the move, this is pretty fast\n",
    "    shutil.move(source_path, aiff_dst_path)"
   ]
  },
  {
   "cell_type": "markdown",
   "metadata": {},
   "source": [
    "Test that it moved correctly"
   ]
  },
  {
   "cell_type": "code",
   "execution_count": 11,
   "metadata": {},
   "outputs": [],
   "source": [
    "df = pd.read_csv(DATA_META_FILE)\n",
    "df.head()\n",
    "\n",
    "for index, row in df.iterrows():\n",
    "    clip_name = row['clip_name']\n",
    "    label = row['label']\n",
    "    source_path = os.path.join(DATA_AUDIO_DIR, clip_name)\n",
    "    not_whale_destination_path = os.path.join(DATA_NOT_WHALE_AUDIO_DIR, clip_name)\n",
    "    whale_destination_path = os.path.join(DATA_WHALE_AUDIO_DIR, clip_name)\n",
    "\n",
    "    if(label==0): #not whale\n",
    "        assert(os.path.exists(not_whale_destination_path)), f\"{clip_name} should be in {not_whale_destination_path}\"\n",
    "        assert not(os.path.exists(whale_destination_path)), f\"{clip_name} should not be in {whale_destination_path}\"\n",
    "    else: #whale\n",
    "        assert not(os.path.exists(not_whale_destination_path)), f\"{clip_name} should not be in {not_whale_destination_path}\"\n",
    "        assert(os.path.exists(whale_destination_path)), f\"{clip_name} should be in {whale_destination_path}\""
   ]
  },
  {
   "cell_type": "markdown",
   "metadata": {},
   "source": [
    "Remove `labels.csv` since we no longer need it since files are organized in folders according to their labell.\n",
    "If you don't do this you will run into a dataloader issue later"
   ]
  },
  {
   "cell_type": "code",
   "execution_count": 12,
   "metadata": {},
   "outputs": [],
   "source": [
    "!rm -rf full_data/audio; rm -rf full_data/labels.csv"
   ]
  },
  {
   "cell_type": "code",
   "execution_count": null,
   "metadata": {},
   "outputs": [],
   "source": []
  }
 ],
 "metadata": {
  "kernelspec": {
   "display_name": "Python 3 (ipykernel)",
   "language": "python",
   "name": "python3"
  },
  "language_info": {
   "codemirror_mode": {
    "name": "ipython",
    "version": 3
   },
   "file_extension": ".py",
   "mimetype": "text/x-python",
   "name": "python",
   "nbconvert_exporter": "python",
   "pygments_lexer": "ipython3",
   "version": "3.7.13"
  }
 },
 "nbformat": 4,
 "nbformat_minor": 1
}
