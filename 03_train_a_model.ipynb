{
 "cells": [
  {
   "cell_type": "markdown",
   "metadata": {},
   "source": [
    "# Train a model using fast.ai"
   ]
  },
  {
   "cell_type": "markdown",
   "metadata": {},
   "source": [
    "Now it is your turn to train a model on this same dataset using fast.ai!"
   ]
  },
  {
   "cell_type": "markdown",
   "metadata": {},
   "source": [
    "## Setup"
   ]
  },
  {
   "cell_type": "markdown",
   "metadata": {},
   "source": [
    "### Import necessary libraries"
   ]
  },
  {
   "cell_type": "code",
   "execution_count": 20,
   "metadata": {},
   "outputs": [],
   "source": [
    "# This file contains all the main external libs we'll use\n",
    "from fastai.imports import * #used for fastai\n",
    "from IPython import display #used to display media in notebook\n",
    "import matplotlib.pyplot as plt #used to plot in notebook\n",
    "\n",
    "from fastai.data.all import *\n",
    "from fastai.data.external import *\n",
    "from fastai.vision.all import *\n",
    "\n",
    "import librosa;\n",
    "import librosa.display;\n",
    "\n",
    "import PIL as Pillow;"
   ]
  },
  {
   "cell_type": "markdown",
   "metadata": {},
   "source": [
    "### Check if CUDA is available - This will be a problem later if this doesn't work"
   ]
  },
  {
   "cell_type": "code",
   "execution_count": 21,
   "metadata": {},
   "outputs": [
    {
     "name": "stdout",
     "output_type": "stream",
     "text": [
      "True\n"
     ]
    }
   ],
   "source": [
    "print(torch.cuda.is_available())"
   ]
  },
  {
   "cell_type": "markdown",
   "metadata": {},
   "source": [
    "### Setup dataset paths"
   ]
  },
  {
   "cell_type": "code",
   "execution_count": 22,
   "metadata": {},
   "outputs": [],
   "source": [
    "DATA_ROOT_DIR=os.path.normpath(os.path.join(os.getcwd(), 'full_data'))\n",
    "SAMPLE_DATA_ROOT_DIR=os.path.normpath(os.path.join(os.getcwd(), 'sample_data'))\n",
    "\n",
    "DATA_WHALE_AUDIO_DIR=os.path.join(DATA_ROOT_DIR, 'whale')\n",
    "DATA_NOT_WHALE_AUDIO_DIR=os.path.join(DATA_ROOT_DIR, 'not_whale')\n",
    "path = Path(DATA_ROOT_DIR)"
   ]
  },
  {
   "cell_type": "markdown",
   "metadata": {},
   "source": [
    "### Create Fast.AI Transformer to Load Audio to Spectrogram"
   ]
  },
  {
   "cell_type": "code",
   "execution_count": 102,
   "metadata": {},
   "outputs": [],
   "source": [
    "def mono_to_color(X, mean=None, std=None, norm_max=None, norm_min=None, eps=1e-6):\n",
    "    # Stack X as [X,X,X]\n",
    "    X = np.stack([X, X, X], axis=-1)\n",
    "\n",
    "    # Standardize\n",
    "    mean = mean or X.mean()\n",
    "    std = std or X.std()\n",
    "    Xstd = (X - mean) / (std + eps)\n",
    "    _min, _max = Xstd.min(), Xstd.max()\n",
    "    norm_max = norm_max or _max\n",
    "    norm_min = norm_min or _min\n",
    "    if (_max - _min) > eps:\n",
    "        # Scale to [0, 255]\n",
    "        V = Xstd\n",
    "        V[V < norm_min] = norm_min\n",
    "        V[V > norm_max] = norm_max\n",
    "        V = 255 * (V - norm_min) / (norm_max - norm_min)\n",
    "        V = V.astype(np.uint8)\n",
    "    else:\n",
    "        # Just zero\n",
    "        V = np.zeros_like(Xstd, dtype=np.uint8)\n",
    "    return V\n",
    "\n",
    "# Convert a Matplotlib figure to a PIL Image and return it\n",
    "# This is used to avoid writing to disk, which is an expensive operation and would slow down training\n",
    "# Alternatively, we could precompute the images but that wouldn't let us experiment as easily\n",
    "def figure_to_image(fig):\n",
    "    \n",
    "    buf = io.BytesIO()\n",
    "    fig.savefig(buf)\n",
    "    buf.seek(0)\n",
    "    img = PILImage.create(buf)\n",
    "    return img\n",
    "\n",
    "# Lots of libraries and methods for generating a spectrogram\n",
    "# Under the hood all these algorithms rely on a Fast Fourier Transform\n",
    "# Originally, I wanted to use torchaudio because that is CUDA enabled and can be accelerated on GPU\n",
    "# Unfortunately, the shape of the data returned simply did not make any sense and working with tensors\n",
    "# as opposed to numpy arrays was incredibly annoying. It just didn't work.\n",
    "# I tried other libraries as well but ultimately settled on librosa since it seems the most widely used\n",
    "# There exist fast.ai packages like fastaudio and other forks but like many open-source things they are unmaintained\n",
    "# Using those type of packages breaks the dependencies and on my environment forced a non-CUDA\n",
    "# accelerated version of pytorch which is useless\n",
    "def create_spectrogram(file_path):\n",
    "    samples, sample_rate = librosa.core.load(file_path)\n",
    "    \n",
    "    # Compute spectrogram, using some sensible defaults\n",
    "    # Opportunities here to tweak possibly, just not sure how much it would help\n",
    "    # We don't use Nicholas' settings as for some reason they get bad results with this library\n",
    "    D = librosa.stft(samples, n_fft=2048, hop_length=64, window=\"han\", center=False)  # STFT of y\n",
    "    \n",
    "    # Normalize to decibals\n",
    "    S_dB = librosa.amplitude_to_db(np.abs(D), ref=np.max)\n",
    "    return S_dB, sample_rate\n",
    "\n",
    "def spectrogram_to_image(spec):\n",
    "    colored_np = mono_to_color(spec) # go from mono to color\n",
    "    pillow_image = Pillow.Image.fromarray(colored_np) # conver to regular python image\n",
    "    flipped_image = pillow_image.transpose(Image.FLIP_TOP_BOTTOM) # flip image\n",
    "    h, w, *other = pillow_image.shape\n",
    "    cropped_image = flipped_image.crop((0, h-w, w, h))\n",
    "    cropped_image_np = np.array(cropped_image) # back to numpy\n",
    "    return PILImage.create(cropped_image_np) # convert to fast ai\n",
    "\n",
    "    # this uses matplot lib to plot the spectrogram but we don't show it in the notebook\n",
    "    # instead we use figure_to_image to save it to memory as a fast.ai Image (PILImage)\n",
    "#     fig = plt.figure()\n",
    "#     ax = fig.add_subplot(111)\n",
    "#     ax.axes.get_xaxis().set_visible(False)\n",
    "#     ax.axes.get_yaxis().set_visible(False)\n",
    "#     ax.set_frame_on(False)\n",
    "#     ax.set_ylim((0, 1000)) #this line cuts off the frequencies at 1000Hz, none of the files have frequencies above this\n",
    "#     ax.axis('off')\n",
    "#     plt.tight_layout(pad=0)\n",
    "    \n",
    "    # use the same spectrogram coloring as used in Nicholas Kridler's winning solution\n",
    "#     librosa.display.specshow(spec, sr=sr, y_axis=y_axis, x_axis=x_axis, hop_length=hop_length, cmap=\"hsv_r\")\n",
    "    \n",
    "    # write to in-memory file, the whole matplotlib plotting and saving to memory is a hack to avoid\n",
    "    # saving a file to the disk which would be extremely slow\n",
    "    # it is also a hack because using the output from create_spectrogram is incredibly difficult\n",
    "    # the result would be in the same shape as an image and you can plot it as if it were\n",
    "    # but some values are floats and have negatives, you'd have to normalize to 0-255, as well as cast the type\n",
    "    # then the result is a single channel image, the pre-trained nets expect a 3-channel image so while\n",
    "    # you can view the image successfully, you can't used pre-trained models\n",
    "    # as I write this, probably my concern is that I don't know how many of these matplotlib operations are\n",
    "    # CPU-bound so while this is faster than being blocked by disk-io, its slower than doing everything with tensors\n",
    "    # that said, librosa which is what we use for computing the spectrogram, runs on the CPU\n",
    "    # performance wise, switching to a library that is CUDA enabled could speed up the underlying fast fourier transform\n",
    "    # but another performance optimization is removing the dependency on matplotlib but good luck with that\n",
    "#     fig = plt.gcf()\n",
    "#     img = figure_to_image(fig)\n",
    "#     plt.close('all')\n",
    "#     return img\n",
    "\n",
    "# this is an alternative type of spectrogram, its here in case you want to try to use it\n",
    "# my understanding is that it normalizes the spectrogram based on what humans can perceive which is\n",
    "# good for some types of problems, but this problem I think isn't really about how humans hear whales\n",
    "# theres more tweakable settings and people really seem to like mel spectrograms so there might be something here\n",
    "def create_mel_spectrogram(audio):\n",
    "    audio, sample_rate = librosa.core.load(audio)\n",
    "    # Compute mel spectrogram\n",
    "    S = librosa.feature.melspectrogram(y=audio, sr=sample_rate, fmax=sample_rate/2, center=False)\n",
    "    \n",
    "    # Normalize to decibals\n",
    "    S_dB = librosa.power_to_db(S, ref=np.max)\n",
    "    return S_dB.astype(np.float32), sample_rate\n",
    "\n",
    "# I chose to load the audio files directly into fast.ai using the DataBlock API.\n",
    "# Alternatively, we could have pre-computed all the spectrograms in the 00_getting_started.ipynb but\n",
    "# I decided against it because then it would be unlikely for anyone to actually make modifications to the images\n",
    "# Writing 40,000 files to disk is painfully slow so you wouldn't even be able to get started quickly\n",
    "# This method creates a transformer which can take paths to audio files and transform them into spectrograms\n",
    "# The API could be improved a bit to remove the hard-coding of hop_length but overall pretty happy with the result\n",
    "# aside from the hackiness of spectrogram_to_image, but if you do some research you will see lots of people doing\n",
    "# pretty terribly things as well. So this one I think is pretty clever\n",
    "class SpecgramTransform(Transform):\n",
    "    def __init__(self): self.aug = create_spectrogram\n",
    "    def encodes(self, audio_file: Path):\n",
    "        aug_img, sample_rate = self.aug(audio_file)\n",
    "        image = spectrogram_to_image(aug_img)\n",
    "        return image\n",
    "\n",
    "# Alternative transformer for generating images of Mel Spectrograms\n",
    "# Beware: Mel Spectrograms have different sizes then regular ones.\n",
    "# Although I'm pretty sure the resizing method in the transformation pipeline probably handles it, untested\n",
    "class MelSpecgramTransform(Transform):\n",
    "    def __init__(self): self.aug = create_mel_spectrogram\n",
    "    def encodes(self, audio_file: Path):\n",
    "        aug_img, sample_rate = self.aug(audio_file)\n",
    "        image = spectrogram_to_image(aug_img)\n",
    "        return image\n",
    "    \n",
    "# We may need to crop images. For example, whats the highest frequency sound a whale can even make?\n",
    "# Whatever it is, it could be reasonable to cut-off the image at frequencies we know a whale call couldn't exist\n",
    "# Ultimately, images will need to be square I believe so they would need to get filled with something\n",
    "# The reason I created this transform is because fast.ai doesn't give you a transformer for precision cropping\n",
    "# You either crop and cut out the center or you don't crop at all\n",
    "# This transformer lets you optionally crop from any direction and leaves sides alone that you don't specify crops for\n",
    "class CropImageTransform(Transform):\n",
    "    def __init__(self, left=None, upper=None, right=None, lower=None):\n",
    "        print(\"test constructor\")\n",
    "        self.aug = self.__crop_image\n",
    "        self.box = (left, upper, right, lower)\n",
    "    \n",
    "    def __compute_box(self, image):\n",
    "        # get current dimensions of image\n",
    "        # *other is because we don't know if we will receive two elements or more\n",
    "        # we get two for a greyscale image, we get three for a RGB\n",
    "        h, w, *other = image.shape\n",
    "        \n",
    "        #get desired crop entered by user\n",
    "        left, upper, right, lower = self.box\n",
    "        \n",
    "        #don't crop sides that user didn't want cropped\n",
    "        left = 0 if left is None else left\n",
    "        upper = 0 if upper is None else upper\n",
    "        right = w if right is None else right\n",
    "        lower = h if lower is None else lower\n",
    "        \n",
    "        #save computed box\n",
    "        self.box = (left, upper, right, lower)\n",
    "        \n",
    "    def __crop_image(self, image):\n",
    "        print(\"test crop\")\n",
    "\n",
    "        self.__compute_box(image)\n",
    "        print(self.box)\n",
    "        image_cropped = image.crop(self.box)\n",
    "        return image_cropped\n",
    "        \n",
    "    # this transformer works on PILImages (fast.ai)\n",
    "    # this transfomer does not work on PIL.Image (Pillow/PIL)\n",
    "    def encodes(self, image):\n",
    "        print(\"encode\")\n",
    "        print(image)\n",
    "        cropped_image = self.aug(image)\n",
    "        return cropped_image"
   ]
  },
  {
   "cell_type": "markdown",
   "metadata": {},
   "source": [
    "Check one file to see if data loaded correctly"
   ]
  },
  {
   "cell_type": "code",
   "execution_count": 103,
   "metadata": {},
   "outputs": [
    {
     "name": "stdout",
     "output_type": "stream",
     "text": [
      "<class 'fastai.vision.core.PILImage'>\n",
      "Specgram Size: (658, 658)\n"
     ]
    },
    {
     "data": {
      "image/png": "[encoded data removed]",
      "text/plain": [
       "<Figure size 360x360 with 1 Axes>"
      ]
     },
     "metadata": {
      "needs_background": "light"
     },
     "output_type": "display_data"
    }
   ],
   "source": [
    "files = get_files(path)\n",
    "audio_file = files[0]\n",
    "\n",
    "spec, sample_rate = create_spectrogram(audio_file)\n",
    "spec_image = spectrogram_to_image(spec)\n",
    "print(type(spec_image))\n",
    "show_image(spec_image)\n",
    "\n",
    "print(f\"Specgram Size: {spec_image.shape}\")"
   ]
  },
  {
   "cell_type": "markdown",
   "metadata": {},
   "source": [
    "Preview results of CropImageTransform for reference in case you need to crop"
   ]
  },
  {
   "cell_type": "code",
   "execution_count": 104,
   "metadata": {},
   "outputs": [
    {
     "name": "stdout",
     "output_type": "stream",
     "text": [
      "test constructor\n",
      "encode\n",
      "PILImage mode=RGB size=658x658\n",
      "test crop\n",
      "(0, 128, 658, 658)\n",
      "Specgram Size: (530, 658)\n"
     ]
    },
    {
     "data": {
      "image/png": "[encoded data removed]",
      "text/plain": [
       "<Figure size 360x360 with 1 Axes>"
      ]
     },
     "metadata": {
      "needs_background": "light"
     },
     "output_type": "display_data"
    }
   ],
   "source": [
    "tfm = CropImageTransform(upper=128)\n",
    "cropped_spec = tfm((spec_image))\n",
    "show_image(cropped_spec);\n",
    "print(f\"Specgram Size: {cropped_spec.shape}\")"
   ]
  },
  {
   "cell_type": "markdown",
   "metadata": {},
   "source": [
    "## Model Training"
   ]
  },
  {
   "cell_type": "markdown",
   "metadata": {},
   "source": [
    "### Load dataset"
   ]
  },
  {
   "cell_type": "markdown",
   "metadata": {},
   "source": [
    "This part maybe looks a little tricky but this uses Fast.AI's DataBlock API for generic loading. `get_files` is a generic loader that takes in everything in the `path` when you call `dblock.dataloaders(path)`. `get_files` is just a function provided by fast.ai and we are passing the function by name, but it doesn't get called yet until you use the dataloader. Since the audio files are organized in folders in the path, DataBlock/DataLoader is smart enough to know that each folder represents a category of data. \n",
    "\n",
    "Our data set is comprised of two types of data, audio files which we use a `TransformBlock` for and the labels which are represented by `CategoryBlock`. Based on what you pick here lets fast.ai be able to support additional features. So for example an `ImageBlock` responds to more things than a `TransformBlock`. We don't have a choice here because while we will _eventually_ load data in the form of a spectrogram image, at this moment our dataset is just a collection of file paths and labels. If we tried to use an `ImageBlock` it would throw an error saying `Path` is not of type `Image` or something like that.\n",
    "\n",
    "Additionally, DataBlocks can have one or more item transformers and one or more batch transformers. Item transformers are executed on each item. Batch transfomers are executed on the whole batch. The default transformer pipeline I laid out here does the following:\n",
    "\n",
    "* Transform each file path into a fast.ai friendly image of its corresponding spectrogram\n",
    "* Resize the each image such that the largest dimension of that image is 224 pixels, while the other is possibly smaller\n",
    "* Turn the image into a square by making all sides 224 while centering the image and padding the empty space with zeroes. Annoyingly, padding is applied randomly on the borders of the  smaller dimensions. If we hate this, we can write our own ExtendTransform. I didn't because there are arguments that this type of augmentation helps the model generalize."
   ]
  },
  {
   "cell_type": "code",
   "execution_count": 116,
   "metadata": {},
   "outputs": [
    {
     "data": {
      "image/png": "[encoded data removed]",
      "text/plain": [
       "<Figure size 648x648 with 9 Axes>"
      ]
     },
     "metadata": {
      "needs_background": "light"
     },
     "output_type": "display_data"
    }
   ],
   "source": [
    "dblock = DataBlock(\n",
    "    blocks = [TransformBlock, CategoryBlock],\n",
    "    get_items = get_files,\n",
    "    splitter=RandomSplitter(valid_pct=0.2, seed=42),\n",
    "    get_y=parent_label,\n",
    "    item_tfms = [ SpecgramTransform(), ToTensor(), IntToFloatTensor, Resize(64) ]\n",
    ")\n",
    "dls = dblock.dataloaders(path, num_workers=0)\n",
    "dls.show_batch()"
   ]
  },
  {
   "cell_type": "markdown",
   "metadata": {},
   "source": [
    "### Train"
   ]
  },
  {
   "cell_type": "code",
   "execution_count": null,
   "metadata": {},
   "outputs": [
    {
     "data": {
      "text/html": [
       "\n",
       "<style>\n",
       "    /* Turns off some styling */\n",
       "    progress {\n",
       "        /* gets rid of default border in Firefox and Opera. */\n",
       "        border: none;\n",
       "        /* Needs to be in here for Safari polyfill so background images work as expected. */\n",
       "        background-size: auto;\n",
       "    }\n",
       "    progress:not([value]), progress:not([value])::-webkit-progress-bar {\n",
       "        background: repeating-linear-gradient(45deg, #7e7e7e, #7e7e7e 10px, #5c5c5c 10px, #5c5c5c 20px);\n",
       "    }\n",
       "    .progress-bar-interrupted, .progress-bar-interrupted::-webkit-progress-bar {\n",
       "        background: #F44336;\n",
       "    }\n",
       "</style>\n"
      ],
      "text/plain": [
       "<IPython.core.display.HTML object>"
      ]
     },
     "metadata": {},
     "output_type": "display_data"
    },
    {
     "data": {
      "text/html": [
       "\n",
       "    <div>\n",
       "      <progress value='0' class='' max='1' style='width:300px; height:20px; vertical-align: middle;'></progress>\n",
       "      0.00% [0/1 00:00&lt;?]\n",
       "    </div>\n",
       "    \n",
       "<table border=\"1\" class=\"dataframe\">\n",
       "  <thead>\n",
       "    <tr style=\"text-align: left;\">\n",
       "      <th>epoch</th>\n",
       "      <th>train_loss</th>\n",
       "      <th>valid_loss</th>\n",
       "      <th>error_rate</th>\n",
       "      <th>time</th>\n",
       "    </tr>\n",
       "  </thead>\n",
       "  <tbody>\n",
       "  </tbody>\n",
       "</table><p>\n",
       "\n",
       "    <div>\n",
       "      <progress value='9' class='' max='375' style='width:300px; height:20px; vertical-align: middle;'></progress>\n",
       "      2.40% [9/375 01:10&lt;47:46 1.2268]\n",
       "    </div>\n",
       "    "
      ],
      "text/plain": [
       "<IPython.core.display.HTML object>"
      ]
     },
     "metadata": {},
     "output_type": "display_data"
    }
   ],
   "source": [
    "learn = vision_learner(dls, resnet18, metrics=error_rate, pretrained=True)\n",
    "learn.model.cuda()\n",
    "learn.fine_tune(3)"
   ]
  },
  {
   "cell_type": "markdown",
   "metadata": {},
   "source": [
    "### Export"
   ]
  },
  {
   "cell_type": "code",
   "execution_count": null,
   "metadata": {},
   "outputs": [],
   "source": [
    "TODO: by you"
   ]
  },
  {
   "cell_type": "markdown",
   "metadata": {},
   "source": [
    "## Brainstorm ideas for improvement\n",
    "\n",
    "Don't improve things in this notebook. Save it for the later one. But just jot down some ideas you can think of to improve the results.\n",
    "\n",
    "* todo by you"
   ]
  },
  {
   "cell_type": "code",
   "execution_count": null,
   "metadata": {},
   "outputs": [],
   "source": []
  }
 ],
 "metadata": {
  "kernelspec": {
   "display_name": "Python 3 (ipykernel)",
   "language": "python",
   "name": "python3"
  },
  "language_info": {
   "codemirror_mode": {
    "name": "ipython",
    "version": 3
   },
   "file_extension": ".py",
   "mimetype": "text/x-python",
   "name": "python",
   "nbconvert_exporter": "python",
   "pygments_lexer": "ipython3",
   "version": "3.7.13"
  }
 },
 "nbformat": 4,
 "nbformat_minor": 1
}
