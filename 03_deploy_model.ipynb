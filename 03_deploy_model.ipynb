{
 "cells": [
  {
   "cell_type": "markdown",
   "metadata": {},
   "source": [
    "# Deployment"
   ]
  },
  {
   "cell_type": "markdown",
   "metadata": {},
   "source": [
    "Goal: Fill out this notebook to import your trained model and build a Gradio interface.\n",
    "\n",
    "After mocking up Gradio interface: Deploy your model to HuggingFace Spaces"
   ]
  },
  {
   "cell_type": "code",
   "execution_count": null,
   "metadata": {},
   "outputs": [],
   "source": [
    "!pip install gradio"
   ]
  },
  {
   "cell_type": "code",
   "execution_count": null,
   "metadata": {},
   "outputs": [],
   "source": [
    "# This file contains all the main external libs we'll use\n",
    "from fastai.imports import * #used for fastai\n",
    "from IPython import display #used to display media in notebook\n",
    "import matplotlib.pyplot as plt #used to plot in notebook\n",
    "\n",
    "from fastai.data.all import *\n",
    "from fastai.data.external import *\n",
    "from fastai.vision.all import *\n",
    "\n",
    "import librosa;\n",
    "import librosa.display;\n",
    "\n",
    "import PIL as Pillow;\n",
    "import gradio as gr;\n",
    "import soundfile as sf;\n",
    "import tempfile;"
   ]
  },
  {
   "cell_type": "markdown",
   "metadata": {},
   "source": [
    "#### Load the learner from `.pkl` file. \n",
    "\n",
    "This will complain that you need some functions that aren't available in the namespace. Copy the necessary ones from the previous notebook."
   ]
  },
  {
   "cell_type": "code",
   "execution_count": null,
   "metadata": {},
   "outputs": [],
   "source": [
    "# TODO: put the functions that are missing from the namespace here\n",
    "# ...."
   ]
  },
  {
   "cell_type": "markdown",
   "metadata": {},
   "source": [
    "We have to define a prediction function for our model:"
   ]
  },
  {
   "cell_type": "code",
   "execution_count": null,
   "metadata": {},
   "outputs": [],
   "source": [
    "learn = load_learner('model.pkl')"
   ]
  },
  {
   "cell_type": "code",
   "execution_count": null,
   "metadata": {},
   "outputs": [],
   "source": [
    "labels = learn.dls.vocab\n",
    "\n",
    "def predict(audio):\n",
    "    # grab data from Gradio upload\n",
    "    sample_rate, data = audio \n",
    "    \n",
    "    # recall that our dataset loads paths to audio files first, not the files themselves\n",
    "    # lets make a temporary (in-memory) file\n",
    "    temp_file = tempfile.NamedTemporaryFile(suffix='.aiff')\n",
    "    \n",
    "    # use soundfile library to write to temp file\n",
    "    sf.write(temp_file.name, data, sample_rate)\n",
    "    \n",
    "    # get our prediction results\n",
    "    pred,pred_idx,probs = learn.predict(Path(temp_file.name))\n",
    "    \n",
    "    # close tempfile\n",
    "    temp_file.close()\n",
    "    \n",
    "    # return prediction results\n",
    "    return {labels[i]: float(probs[i]) for i in range(len(labels))}"
   ]
  },
  {
   "cell_type": "code",
   "execution_count": null,
   "metadata": {},
   "outputs": [],
   "source": [
    "title = \"North Atlantic Right Whale Classifier\"\n",
    "description = \"A NARW up-call classifier trained on the The Marinexplore and Cornell University Whale Detection Challenge dataset (Kaggle) with fastai.\"\n",
    "article=\"<p style='text-align: center'><a href='https://www.kaggle.com/competitions/whale-detection-challenge' target='_blank'>Dataset</a></p>\"\n",
    "enable_queue=True\n",
    "\n",
    "gr.Interface(fn=predict, inputs=gr.Audio(type=\"numpy\"), outputs=gr.outputs.Label(num_top_classes=2),title=title,description=description,article=article,allow_flagging=\"never\").launch(share=True)"
   ]
  },
  {
   "cell_type": "markdown",
   "metadata": {},
   "source": [
    "#### Your Job"
   ]
  },
  {
   "cell_type": "markdown",
   "metadata": {},
   "source": [
    "Deploy to HuggingFace Spaces after getting this Gradio notebook working"
   ]
  },
  {
   "cell_type": "code",
   "execution_count": null,
   "metadata": {},
   "outputs": [],
   "source": []
  }
 ],
 "metadata": {
  "kernelspec": {
   "display_name": "Python 3 (ipykernel)",
   "language": "python",
   "name": "python3"
  },
  "language_info": {
   "codemirror_mode": {
    "name": "ipython",
    "version": 3
   },
   "file_extension": ".py",
   "mimetype": "text/x-python",
   "name": "python",
   "nbconvert_exporter": "python",
   "pygments_lexer": "ipython3",
   "version": "3.7.13"
  }
 },
 "nbformat": 4,
 "nbformat_minor": 1
}
